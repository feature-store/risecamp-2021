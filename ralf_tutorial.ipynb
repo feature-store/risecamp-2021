{
 "cells": [
  {
   "cell_type": "markdown",
   "id": "17006a17",
   "metadata": {
    "id": "17006a17"
   },
   "source": [
    "# Introduction \n",
    "This tutorial will go through how to setup a featurization pipeline in `ralf`. We'll setup a pipeline for computing user features given a data stream of user ratings. We'll then query the user features to predict the rating a user will give a movie. \n",
    "\n",
    "To do so, we'll do the following: \n",
    "1. Create feature tables from the movie lens dataset which are incrementally maintained by `ralf`\n",
    "2. Create a ralf client which queries the feature tables \n",
    "3. Implement load shedding policies to reduce feature computation cost"
   ]
  },
  {
   "cell_type": "code",
   "execution_count": null,
   "id": "El1ajoEAovX3",
   "metadata": {
    "colab": {
     "base_uri": "https://localhost:8080/"
    },
    "id": "El1ajoEAovX3",
    "outputId": "dcaf5c6c-3d82-4664-b406-c29d1b981a9a"
   },
   "outputs": [],
   "source": [
    "!pip uninstall -y ralf && pip install git+https://github.com/feature-store/ralf.git@api-for-tutorial"
   ]
  },
  {
   "cell_type": "markdown",
   "id": "a769d63d",
   "metadata": {
    "id": "a769d63d"
   },
   "source": [
    "# Creating a featurization pipeline \n",
    "We create a instance of ralf to that we can start creating tables. "
   ]
  },
  {
   "cell_type": "code",
   "execution_count": 1,
   "id": "594cfd2c",
   "metadata": {
    "id": "594cfd2c"
   },
   "outputs": [],
   "source": [
    "from ralf import Ralf"
   ]
  },
  {
   "cell_type": "code",
   "execution_count": 2,
   "id": "05405be3",
   "metadata": {
    "colab": {
     "base_uri": "https://localhost:8080/"
    },
    "id": "05405be3",
    "outputId": "f08bd445-4488-4fbb-e569-f186cbef01a2"
   },
   "outputs": [
    {
     "name": "stdout",
     "output_type": "stream",
     "text": [
      "Storing operators metrics at /tmp/ralf/1636097525_metrics\n"
     ]
    }
   ],
   "source": [
    "ralf_server = Ralf()"
   ]
  },
  {
   "cell_type": "markdown",
   "id": "644ace1a",
   "metadata": {
    "id": "644ace1a"
   },
   "source": [
    "### Creating Source Tables\n",
    "Source tables define the raw data sources that are run through ralf to become features. `ralf` lets you create both static batch (e.g. from a CSV) and dynamic streaming sources (e.g. from Kafka). \n",
    "\n",
    "To define a source, we implement a `SourceOperator`. "
   ]
  },
  {
   "cell_type": "code",
   "execution_count": 6,
   "id": "b482acbe",
   "metadata": {
    "id": "b482acbe"
   },
   "outputs": [],
   "source": [
    "from ralf.operators.source import SourceOperator\n",
    "from ralf import Record\n",
    "import random\n",
    "import time\n",
    "from als import ALSModel, create_split\n",
    "import pandas as pd"
   ]
  },
  {
   "cell_type": "code",
   "execution_count": 7,
   "id": "a596f9a8",
   "metadata": {},
   "outputs": [],
   "source": [
    "df = pd.read_csv(\"stream.csv\")\n",
    "train_df, test = create_split(df)"
   ]
  },
  {
   "cell_type": "code",
   "execution_count": 8,
   "id": "f9df22df",
   "metadata": {
    "id": "f9df22df"
   },
   "outputs": [],
   "source": [
    "class RatingsSource(SourceOperator):\n",
    "    def __init__(self, schema, kafka_topic):\n",
    "        self.topic = kafka_topic\n",
    "        super().__init__(schema)\n",
    "        for index, row in train_df.iterrows():\n",
    "            self.data.append(row.to_dict())\n",
    "        self.ts = 0\n",
    "\n",
    "    def next(self):\n",
    "        if self.ts < len(self.data):\n",
    "                d = self.data[self.ts]\n",
    "                t = time.time()\n",
    "\n",
    "                record = Record(\n",
    "                    key=str(d[\"userId\"]),\n",
    "                    user_id=int(d[\"userId\"]),\n",
    "                    movie_id=int(d[\"movieId\"]),\n",
    "                    rating=int(d[\"rating\"]),\n",
    "                )\n",
    "                self.ts += 1\n",
    "                time.sleep(.1)\n",
    "                return [record]"
   ]
  },
  {
   "cell_type": "markdown",
   "id": "e7f1523f",
   "metadata": {
    "id": "e7f1523f"
   },
   "source": [
    "We specify a schema using ralf's `Schema` object. "
   ]
  },
  {
   "cell_type": "code",
   "execution_count": 9,
   "id": "1364670a",
   "metadata": {
    "id": "1364670a"
   },
   "outputs": [],
   "source": [
    "from ralf import Schema\n",
    "\n",
    "source_schema = Schema(\n",
    "    primary_key=\"user\", columns={\"user\": str, \"movie\": int, \"rating\": float}\n",
    ")"
   ]
  },
  {
   "cell_type": "markdown",
   "id": "d6199eca",
   "metadata": {
    "id": "d6199eca"
   },
   "source": [
    "We can now add the source to our ralf instance. "
   ]
  },
  {
   "cell_type": "code",
   "execution_count": 10,
   "id": "3c678ee3",
   "metadata": {
    "id": "3c678ee3"
   },
   "outputs": [
    {
     "ename": "ValueError",
     "evalue": "The actor RatingsSource is too large (901 MiB > FUNCTION_SIZE_ERROR_THRESHOLD=95 MiB). Check that its definition is not implicitly capturing a large array or other object in scope. Tip: use ray.put() to put large objects in the Ray object store.",
     "output_type": "error",
     "traceback": [
      "\u001b[0;31m---------------------------------------------------------------------------\u001b[0m",
      "\u001b[0;31mValueError\u001b[0m                                Traceback (most recent call last)",
      "\u001b[0;32m<ipython-input-10-17c6ea2ceb36>\u001b[0m in \u001b[0;36m<module>\u001b[0;34m\u001b[0m\n\u001b[0;32m----> 1\u001b[0;31m \u001b[0msource\u001b[0m \u001b[0;34m=\u001b[0m \u001b[0mralf_server\u001b[0m\u001b[0;34m.\u001b[0m\u001b[0mcreate_source\u001b[0m\u001b[0;34m(\u001b[0m\u001b[0mRatingsSource\u001b[0m\u001b[0;34m,\u001b[0m \u001b[0margs\u001b[0m\u001b[0;34m=\u001b[0m\u001b[0;34m(\u001b[0m\u001b[0msource_schema\u001b[0m\u001b[0;34m,\u001b[0m \u001b[0;34m\"ratings_topic\"\u001b[0m\u001b[0;34m)\u001b[0m\u001b[0;34m)\u001b[0m\u001b[0;34m\u001b[0m\u001b[0;34m\u001b[0m\u001b[0m\n\u001b[0m",
      "\u001b[0;32m/opt/anaconda3/lib/python3.7/site-packages/ralf/core.py\u001b[0m in \u001b[0;36mcreate_source\u001b[0;34m(self, operator_class, args)\u001b[0m\n\u001b[1;32m    193\u001b[0m \u001b[0;34m\u001b[0m\u001b[0m\n\u001b[1;32m    194\u001b[0m     \u001b[0;32mdef\u001b[0m \u001b[0mcreate_source\u001b[0m\u001b[0;34m(\u001b[0m\u001b[0mself\u001b[0m\u001b[0;34m,\u001b[0m \u001b[0moperator_class\u001b[0m\u001b[0;34m,\u001b[0m \u001b[0margs\u001b[0m\u001b[0;34m=\u001b[0m\u001b[0;32mNone\u001b[0m\u001b[0;34m)\u001b[0m\u001b[0;34m:\u001b[0m\u001b[0;34m\u001b[0m\u001b[0;34m\u001b[0m\u001b[0m\n\u001b[0;32m--> 195\u001b[0;31m         \u001b[0mtable\u001b[0m \u001b[0;34m=\u001b[0m \u001b[0mTable\u001b[0m\u001b[0;34m(\u001b[0m\u001b[0;34m[\u001b[0m\u001b[0;34m]\u001b[0m\u001b[0;34m,\u001b[0m \u001b[0moperator_class\u001b[0m\u001b[0;34m,\u001b[0m \u001b[0;34m*\u001b[0m\u001b[0margs\u001b[0m\u001b[0;34m)\u001b[0m\u001b[0;34m\u001b[0m\u001b[0;34m\u001b[0m\u001b[0m\n\u001b[0m\u001b[1;32m    196\u001b[0m         \u001b[0mself\u001b[0m\u001b[0;34m.\u001b[0m\u001b[0mdeploy\u001b[0m\u001b[0;34m(\u001b[0m\u001b[0mtable\u001b[0m\u001b[0;34m,\u001b[0m \u001b[0;34m\"source\"\u001b[0m\u001b[0;34m)\u001b[0m\u001b[0;34m\u001b[0m\u001b[0;34m\u001b[0m\u001b[0m\n\u001b[1;32m    197\u001b[0m         \u001b[0;32mreturn\u001b[0m \u001b[0mtable\u001b[0m\u001b[0;34m\u001b[0m\u001b[0;34m\u001b[0m\u001b[0m\n",
      "\u001b[0;32m/opt/anaconda3/lib/python3.7/site-packages/ralf/table.py\u001b[0m in \u001b[0;36m__init__\u001b[0;34m(self, parents, operator, *operator_args, **operator_kwargs)\u001b[0m\n\u001b[1;32m     42\u001b[0m         \u001b[0mself\u001b[0m\u001b[0;34m.\u001b[0m\u001b[0mkwargs\u001b[0m \u001b[0;34m=\u001b[0m \u001b[0moperator_kwargs\u001b[0m\u001b[0;34m\u001b[0m\u001b[0;34m\u001b[0m\u001b[0m\n\u001b[1;32m     43\u001b[0m         self.pool = ActorPool.make_replicas(\n\u001b[0;32m---> 44\u001b[0;31m             \u001b[0mself\u001b[0m\u001b[0;34m.\u001b[0m\u001b[0mnum_replicas\u001b[0m\u001b[0;34m,\u001b[0m \u001b[0moperator\u001b[0m\u001b[0;34m,\u001b[0m \u001b[0;34m*\u001b[0m\u001b[0moperator_args\u001b[0m\u001b[0;34m,\u001b[0m \u001b[0;34m**\u001b[0m\u001b[0moperator_kwargs\u001b[0m\u001b[0;34m\u001b[0m\u001b[0;34m\u001b[0m\u001b[0m\n\u001b[0m\u001b[1;32m     45\u001b[0m         )\n\u001b[1;32m     46\u001b[0m         \u001b[0mself\u001b[0m\u001b[0;34m.\u001b[0m\u001b[0mpool\u001b[0m\u001b[0;34m.\u001b[0m\u001b[0mbroadcast\u001b[0m\u001b[0;34m(\u001b[0m\u001b[0;34m\"set_parents\"\u001b[0m\u001b[0;34m,\u001b[0m \u001b[0;34m[\u001b[0m\u001b[0mparent\u001b[0m\u001b[0;34m.\u001b[0m\u001b[0mpool\u001b[0m \u001b[0;32mfor\u001b[0m \u001b[0mparent\u001b[0m \u001b[0;32min\u001b[0m \u001b[0mparents\u001b[0m\u001b[0;34m]\u001b[0m\u001b[0;34m)\u001b[0m\u001b[0;34m\u001b[0m\u001b[0;34m\u001b[0m\u001b[0m\n",
      "\u001b[0;32m/opt/anaconda3/lib/python3.7/site-packages/ralf/operator.py\u001b[0m in \u001b[0;36mmake_replicas\u001b[0;34m(cls, num_replicas, actor_class, *init_args, **init_kwargs)\u001b[0m\n\u001b[1;32m     32\u001b[0m                 \u001b[0;34m*\u001b[0m\u001b[0minit_args\u001b[0m\u001b[0;34m,\u001b[0m \u001b[0;34m**\u001b[0m\u001b[0minit_kwargs\u001b[0m\u001b[0;34m\u001b[0m\u001b[0;34m\u001b[0m\u001b[0m\n\u001b[1;32m     33\u001b[0m             )\n\u001b[0;32m---> 34\u001b[0;31m             \u001b[0;32mfor\u001b[0m \u001b[0m_\u001b[0m \u001b[0;32min\u001b[0m \u001b[0mrange\u001b[0m\u001b[0;34m(\u001b[0m\u001b[0mnum_replicas\u001b[0m\u001b[0;34m)\u001b[0m\u001b[0;34m\u001b[0m\u001b[0;34m\u001b[0m\u001b[0m\n\u001b[0m\u001b[1;32m     35\u001b[0m         ]\n\u001b[1;32m     36\u001b[0m         \u001b[0;32mfor\u001b[0m \u001b[0mi\u001b[0m\u001b[0;34m,\u001b[0m \u001b[0mhandle\u001b[0m \u001b[0;32min\u001b[0m \u001b[0menumerate\u001b[0m\u001b[0;34m(\u001b[0m\u001b[0mhandles\u001b[0m\u001b[0;34m)\u001b[0m\u001b[0;34m:\u001b[0m\u001b[0;34m\u001b[0m\u001b[0;34m\u001b[0m\u001b[0m\n",
      "\u001b[0;32m/opt/anaconda3/lib/python3.7/site-packages/ralf/operator.py\u001b[0m in \u001b[0;36m<listcomp>\u001b[0;34m(.0)\u001b[0m\n\u001b[1;32m     32\u001b[0m                 \u001b[0;34m*\u001b[0m\u001b[0minit_args\u001b[0m\u001b[0;34m,\u001b[0m \u001b[0;34m**\u001b[0m\u001b[0minit_kwargs\u001b[0m\u001b[0;34m\u001b[0m\u001b[0;34m\u001b[0m\u001b[0m\n\u001b[1;32m     33\u001b[0m             )\n\u001b[0;32m---> 34\u001b[0;31m             \u001b[0;32mfor\u001b[0m \u001b[0m_\u001b[0m \u001b[0;32min\u001b[0m \u001b[0mrange\u001b[0m\u001b[0;34m(\u001b[0m\u001b[0mnum_replicas\u001b[0m\u001b[0;34m)\u001b[0m\u001b[0;34m\u001b[0m\u001b[0;34m\u001b[0m\u001b[0m\n\u001b[0m\u001b[1;32m     35\u001b[0m         ]\n\u001b[1;32m     36\u001b[0m         \u001b[0;32mfor\u001b[0m \u001b[0mi\u001b[0m\u001b[0;34m,\u001b[0m \u001b[0mhandle\u001b[0m \u001b[0;32min\u001b[0m \u001b[0menumerate\u001b[0m\u001b[0;34m(\u001b[0m\u001b[0mhandles\u001b[0m\u001b[0;34m)\u001b[0m\u001b[0;34m:\u001b[0m\u001b[0;34m\u001b[0m\u001b[0;34m\u001b[0m\u001b[0m\n",
      "\u001b[0;32m/opt/anaconda3/lib/python3.7/site-packages/ray/actor.py\u001b[0m in \u001b[0;36mremote\u001b[0;34m(self, *args, **kwargs)\u001b[0m\n\u001b[1;32m    503\u001b[0m                     placement_group_capture_child_tasks=(\n\u001b[1;32m    504\u001b[0m                         placement_group_capture_child_tasks),\n\u001b[0;32m--> 505\u001b[0;31m                     runtime_env=new_runtime_env)\n\u001b[0m\u001b[1;32m    506\u001b[0m \u001b[0;34m\u001b[0m\u001b[0m\n\u001b[1;32m    507\u001b[0m         \u001b[0;32mreturn\u001b[0m \u001b[0mActorOptionWrapper\u001b[0m\u001b[0;34m(\u001b[0m\u001b[0;34m)\u001b[0m\u001b[0;34m\u001b[0m\u001b[0;34m\u001b[0m\u001b[0m\n",
      "\u001b[0;32m/opt/anaconda3/lib/python3.7/site-packages/ray/util/tracing/tracing_helper.py\u001b[0m in \u001b[0;36m_invocation_actor_class_remote_span\u001b[0;34m(self, args, kwargs, *_args, **_kwargs)\u001b[0m\n\u001b[1;32m    369\u001b[0m         \u001b[0;32mif\u001b[0m \u001b[0;32mnot\u001b[0m \u001b[0mis_tracing_enabled\u001b[0m\u001b[0;34m(\u001b[0m\u001b[0;34m)\u001b[0m\u001b[0;34m:\u001b[0m\u001b[0;34m\u001b[0m\u001b[0;34m\u001b[0m\u001b[0m\n\u001b[1;32m    370\u001b[0m             \u001b[0;32massert\u001b[0m \u001b[0;34m\"_ray_trace_ctx\"\u001b[0m \u001b[0;32mnot\u001b[0m \u001b[0;32min\u001b[0m \u001b[0mkwargs\u001b[0m\u001b[0;34m\u001b[0m\u001b[0;34m\u001b[0m\u001b[0m\n\u001b[0;32m--> 371\u001b[0;31m             \u001b[0;32mreturn\u001b[0m \u001b[0mmethod\u001b[0m\u001b[0;34m(\u001b[0m\u001b[0mself\u001b[0m\u001b[0;34m,\u001b[0m \u001b[0margs\u001b[0m\u001b[0;34m,\u001b[0m \u001b[0mkwargs\u001b[0m\u001b[0;34m,\u001b[0m \u001b[0;34m*\u001b[0m\u001b[0m_args\u001b[0m\u001b[0;34m,\u001b[0m \u001b[0;34m**\u001b[0m\u001b[0m_kwargs\u001b[0m\u001b[0;34m)\u001b[0m\u001b[0;34m\u001b[0m\u001b[0;34m\u001b[0m\u001b[0m\n\u001b[0m\u001b[1;32m    372\u001b[0m \u001b[0;34m\u001b[0m\u001b[0m\n\u001b[1;32m    373\u001b[0m         \u001b[0mclass_name\u001b[0m \u001b[0;34m=\u001b[0m \u001b[0mself\u001b[0m\u001b[0;34m.\u001b[0m\u001b[0m__ray_metadata__\u001b[0m\u001b[0;34m.\u001b[0m\u001b[0mclass_name\u001b[0m\u001b[0;34m\u001b[0m\u001b[0;34m\u001b[0m\u001b[0m\n",
      "\u001b[0;32m/opt/anaconda3/lib/python3.7/site-packages/ray/actor.py\u001b[0m in \u001b[0;36m_remote\u001b[0;34m(self, args, kwargs, num_cpus, num_gpus, memory, object_store_memory, resources, accelerator_type, max_concurrency, max_restarts, max_task_retries, name, namespace, lifetime, placement_group, placement_group_bundle_index, placement_group_capture_child_tasks, runtime_env)\u001b[0m\n\u001b[1;32m    711\u001b[0m             worker.function_actor_manager.export_actor_class(\n\u001b[1;32m    712\u001b[0m                 \u001b[0mmeta\u001b[0m\u001b[0;34m.\u001b[0m\u001b[0mmodified_class\u001b[0m\u001b[0;34m,\u001b[0m \u001b[0mmeta\u001b[0m\u001b[0;34m.\u001b[0m\u001b[0mactor_creation_function_descriptor\u001b[0m\u001b[0;34m,\u001b[0m\u001b[0;34m\u001b[0m\u001b[0;34m\u001b[0m\u001b[0m\n\u001b[0;32m--> 713\u001b[0;31m                 meta.method_meta.methods.keys())\n\u001b[0m\u001b[1;32m    714\u001b[0m \u001b[0;34m\u001b[0m\u001b[0m\n\u001b[1;32m    715\u001b[0m         resources = ray._private.utils.resources_from_resource_arguments(\n",
      "\u001b[0;32m/opt/anaconda3/lib/python3.7/site-packages/ray/_private/function_manager.py\u001b[0m in \u001b[0;36mexport_actor_class\u001b[0;34m(self, Class, actor_creation_function_descriptor, actor_method_names)\u001b[0m\n\u001b[1;32m    389\u001b[0m         check_oversized_function(actor_class_info[\"class\"],\n\u001b[1;32m    390\u001b[0m                                  \u001b[0mactor_class_info\u001b[0m\u001b[0;34m[\u001b[0m\u001b[0;34m\"class_name\"\u001b[0m\u001b[0;34m]\u001b[0m\u001b[0;34m,\u001b[0m \u001b[0;34m\"actor\"\u001b[0m\u001b[0;34m,\u001b[0m\u001b[0;34m\u001b[0m\u001b[0;34m\u001b[0m\u001b[0m\n\u001b[0;32m--> 391\u001b[0;31m                                  self._worker)\n\u001b[0m\u001b[1;32m    392\u001b[0m \u001b[0;34m\u001b[0m\u001b[0m\n\u001b[1;32m    393\u001b[0m         \u001b[0mself\u001b[0m\u001b[0;34m.\u001b[0m\u001b[0m_publish_actor_class_to_key\u001b[0m\u001b[0;34m(\u001b[0m\u001b[0mkey\u001b[0m\u001b[0;34m,\u001b[0m \u001b[0mactor_class_info\u001b[0m\u001b[0;34m)\u001b[0m\u001b[0;34m\u001b[0m\u001b[0;34m\u001b[0m\u001b[0m\n",
      "\u001b[0;32m/opt/anaconda3/lib/python3.7/site-packages/ray/_private/utils.py\u001b[0m in \u001b[0;36mcheck_oversized_function\u001b[0;34m(pickled, name, obj_type, worker)\u001b[0m\n\u001b[1;32m    639\u001b[0m                 \u001b[0mobj_type\u001b[0m\u001b[0;34m,\u001b[0m \u001b[0mname\u001b[0m\u001b[0;34m,\u001b[0m \u001b[0mlength\u001b[0m \u001b[0;34m//\u001b[0m \u001b[0;34m(\u001b[0m\u001b[0;36m1024\u001b[0m \u001b[0;34m*\u001b[0m \u001b[0;36m1024\u001b[0m\u001b[0;34m)\u001b[0m\u001b[0;34m,\u001b[0m\u001b[0;34m\u001b[0m\u001b[0;34m\u001b[0m\u001b[0m\n\u001b[1;32m    640\u001b[0m                 ray_constants.FUNCTION_SIZE_ERROR_THRESHOLD // (1024 * 1024))\n\u001b[0;32m--> 641\u001b[0;31m         \u001b[0;32mraise\u001b[0m \u001b[0mValueError\u001b[0m\u001b[0;34m(\u001b[0m\u001b[0merror\u001b[0m\u001b[0;34m)\u001b[0m\u001b[0;34m\u001b[0m\u001b[0;34m\u001b[0m\u001b[0m\n\u001b[0m\u001b[1;32m    642\u001b[0m \u001b[0;34m\u001b[0m\u001b[0m\n\u001b[1;32m    643\u001b[0m \u001b[0;34m\u001b[0m\u001b[0m\n",
      "\u001b[0;31mValueError\u001b[0m: The actor RatingsSource is too large (901 MiB > FUNCTION_SIZE_ERROR_THRESHOLD=95 MiB). Check that its definition is not implicitly capturing a large array or other object in scope. Tip: use ray.put() to put large objects in the Ray object store."
     ]
    }
   ],
   "source": [
    "source = ralf_server.create_source(RatingsSource, args=(source_schema, \"ratings_topic\"))"
   ]
  },
  {
   "cell_type": "markdown",
   "id": "3909f7f7",
   "metadata": {
    "id": "3909f7f7"
   },
   "source": [
    "### Creating Feature Tables \n",
    "Now that we have data streaming into ralf through the source table, we can define derived feature tables from the source table. \n",
    "\n",
    "Feature tables follow an API similar to pandas dataframes. We define feature tables in terms of 1-2 parent tables and an operator which specifies how to transform parent data. \n",
    "\n",
    "\n",
    "For example, we can calculate the average rating for each user with an `AverageRating` operator: "
   ]
  },
  {
   "cell_type": "code",
   "execution_count": null,
   "id": "d84f91ba",
   "metadata": {
    "id": "d84f91ba"
   },
   "outputs": [],
   "source": [
    "from collections import defaultdict\n",
    "import numpy as np\n",
    "\n",
    "from ralf import Operator, Record"
   ]
  },
  {
   "cell_type": "code",
   "execution_count": null,
   "id": "d6ac4581",
   "metadata": {
    "id": "d6ac4581"
   },
   "outputs": [],
   "source": [
    "class AverageRating(Operator):\n",
    "    def __init__(self, schema):\n",
    "        self.user_ratings = defaultdict(list)\n",
    "\n",
    "        super().__init__(schema)\n",
    "\n",
    "    def on_record(self, record: Record):\n",
    "        self.user_ratings[record.user].append(record.rating)\n",
    "        ratings = np.array(self.user_ratings[record.user])\n",
    "        output_record = Record(user=record.user, average=ratings.mean())\n",
    "        return output_record  "
   ]
  },
  {
   "cell_type": "markdown",
   "id": "3c03ecef",
   "metadata": {
    "id": "3c03ecef"
   },
   "source": [
    "The `AverageRating` operator can be used to define a feature table containing the average rating for each user. "
   ]
  },
  {
   "cell_type": "code",
   "execution_count": null,
   "id": "8c6f3c99",
   "metadata": {
    "id": "8c6f3c99"
   },
   "outputs": [],
   "source": [
    "average_rating_schema = Schema(\n",
    "    primary_key=\"user\", columns={\"user\": str, \"average\": float}\n",
    ")\n",
    "average_rating = source.map(AverageRating, args=(average_rating_schema,))"
   ]
  },
  {
   "cell_type": "markdown",
   "id": "6b6651c9",
   "metadata": {
    "id": "6b6651c9"
   },
   "source": [
    "### Adding Processing Policies\n",
    "In many cases, we may only need to sub-sample some of the data to get the features we need. We can add a simple load shedding policy to the `average_rating` table. "
   ]
  },
  {
   "cell_type": "code",
   "execution_count": null,
   "id": "e8cf588e",
   "metadata": {
    "id": "e8cf588e"
   },
   "outputs": [],
   "source": [
    "from ralf import LoadSheddingPolicy, Record"
   ]
  },
  {
   "cell_type": "code",
   "execution_count": null,
   "id": "ec3d18c7",
   "metadata": {
    "colab": {
     "base_uri": "https://localhost:8080/"
    },
    "id": "ec3d18c7",
    "outputId": "880d67b0-5f5b-46e6-a4ba-78f9512bf5da"
   },
   "outputs": [],
   "source": [
    "class SampleHalf(LoadSheddingPolicy):\n",
    "    \n",
    "    def process(self, candidate_record: Record, current_record: Record) -> bool:\n",
    "        return random.random() < 0.5\n",
    "\n",
    "average_rating.add_load_shedding(SampleHalf)\n",
    "average_rating.as_queryable(\"average\")"
   ]
  },
  {
   "cell_type": "code",
   "execution_count": null,
   "id": "c2757e59",
   "metadata": {
    "colab": {
     "base_uri": "https://localhost:8080/"
    },
    "id": "c2757e59",
    "outputId": "2d4bcee0-217a-48fb-e4eb-842169552e37"
   },
   "outputs": [],
   "source": [
    "ralf_server.run()"
   ]
  },
  {
   "cell_type": "markdown",
   "id": "7715b4b9",
   "metadata": {
    "id": "7715b4b9"
   },
   "source": [
    "## Creating a `ralf` Client \n",
    "Now that we have a simple pipeline, we can query the ralf server for features. "
   ]
  },
  {
   "cell_type": "code",
   "execution_count": null,
   "id": "adbc90c1",
   "metadata": {
    "id": "adbc90c1"
   },
   "outputs": [],
   "source": [
    "from ralf import RalfClient\n",
    "ralf_client = RalfClient()"
   ]
  },
  {
   "cell_type": "code",
   "execution_count": null,
   "id": "60b9cfa2",
   "metadata": {
    "colab": {
     "base_uri": "https://localhost:8080/"
    },
    "id": "60b9cfa2",
    "outputId": "ae01a426-1a32-4f34-bb91-3ce353add0b4"
   },
   "outputs": [],
   "source": [
    "ralf_client.point_query(table_name=\"average\", key=1)"
   ]
  },
  {
   "cell_type": "code",
   "execution_count": null,
   "id": "fbde8a1f",
   "metadata": {
    "colab": {
     "base_uri": "https://localhost:8080/"
    },
    "id": "fbde8a1f",
    "outputId": "7a4a9598-0e4f-4c65-ce22-393b4ff0ca67"
   },
   "outputs": [],
   "source": [
    "ralf_client.bulk_query(table_name=\"average\")"
   ]
  },
  {
   "cell_type": "markdown",
   "id": "e69ee3a4",
   "metadata": {
    "id": "e69ee3a4"
   },
   "source": [
    "# Advanced: Maintaining user vectors \n",
    "Now that we've setup a simple feature table and run some queries, we can create a more realistic feature table: a user vector representing their movie tastes. \n",
    "\n",
    "In this example, we'll assume we already have pre-computed movie vectors which are held constant. User vectors are updated over time as new rating information is recieved. "
   ]
  },
  {
   "cell_type": "code",
   "execution_count": null,
   "id": "flying-jumping",
   "metadata": {
    "colab": {
     "base_uri": "https://localhost:8080/"
    },
    "id": "flying-jumping",
    "outputId": "a3033c29-e9bf-40f3-8269-f3787f08f1d4"
   },
   "outputs": [],
   "source": [
    "import sys\n",
    "!{sys.executable} -m pip install pandas"
   ]
  },
  {
   "cell_type": "code",
   "execution_count": null,
   "id": "N3Ei9HQfpctO",
   "metadata": {
    "colab": {
     "base_uri": "https://localhost:8080/"
    },
    "id": "N3Ei9HQfpctO",
    "outputId": "b76400c5-3138-4ec7-d3cf-f5af168139f1"
   },
   "outputs": [],
   "source": [
    "!wget https://raw.githubusercontent.com/feature-store/risecamp-2021/main/user_active_time.csv\n",
    "!wget https://raw.githubusercontent.com/feature-store/risecamp-2021/main/movie_vectors.csv"
   ]
  },
  {
   "cell_type": "code",
   "execution_count": null,
   "id": "113be8d2",
   "metadata": {
    "colab": {
     "base_uri": "https://localhost:8080/"
    },
    "id": "113be8d2",
    "outputId": "bcb587a8-76c8-43f9-ff3d-ddbf3483981e"
   },
   "outputs": [],
   "source": [
    "import pandas as pd\n",
    "\n",
    "class UserVector(Operator):\n",
    "    \n",
    "    def __init__(self, schema): \n",
    "        super().__init__(schema)\n",
    "        self.model = ALSModel(.1)\n",
    "    \n",
    "    def on_record(self, record: Record):\n",
    "        updated_user_vector = self.model.als_step(record.user, record.movie, record.rating)\n",
    "        output_record = Record(user=record.user, user_vector=updated_user_vector)\n",
    "        return output_record  \n",
    "    \n",
    "user_schema = Schema(\n",
    "    primary_key=\"user\", columns={\"user\": str, \"user_vector\": np.array}\n",
    ")\n",
    "user_vectors = source.map(UserVector, args=(user_schema, \"movie_vectors.csv\"))\n",
    "user_vectors.as_queryable(\"user_vectors\")"
   ]
  },
  {
   "cell_type": "code",
   "execution_count": null,
   "id": "708e7fa2",
   "metadata": {
    "colab": {
     "base_uri": "https://localhost:8080/"
    },
    "id": "708e7fa2",
    "outputId": "def00a8b-32b0-4b2e-b41b-57f0070746d9"
   },
   "outputs": [],
   "source": [
    "ralf_server.run()"
   ]
  },
  {
   "cell_type": "code",
   "execution_count": null,
   "id": "7371d5c7",
   "metadata": {
    "colab": {
     "base_uri": "https://localhost:8080/"
    },
    "id": "7371d5c7",
    "outputId": "18290362-6035-4bb7-ff80-0c56f6979041"
   },
   "outputs": [],
   "source": [
    "ralf_client.bulk_query(table_name=\"user_vectors\")"
   ]
  },
  {
   "cell_type": "markdown",
   "id": "224976b8",
   "metadata": {
    "id": "224976b8"
   },
   "source": [
    "## Prioritizing Active Users \n",
    "Ralf allows for key-level prioritization policies. Say that we want to prioritize computing updates to user vectors for users who especially active. We can use activity data to implement a prioritized lottery scheduling policy. "
   ]
  },
  {
   "cell_type": "code",
   "execution_count": null,
   "id": "6dfb7aa8",
   "metadata": {
    "colab": {
     "base_uri": "https://localhost:8080/",
     "height": 359
    },
    "id": "6dfb7aa8",
    "outputId": "0e8d7bb9-2c6c-45e6-b712-2bdd6adfb4af"
   },
   "outputs": [],
   "source": [
    "user_activity = pd.read_csv(\"user_active_time.csv\")\n",
    "user_activity"
   ]
  },
  {
   "cell_type": "markdown",
   "id": "2bc70322",
   "metadata": {
    "id": "2bc70322"
   },
   "source": [
    "For example, we can set the subsampling rate of the data to be inversely proportional to how active the user is. "
   ]
  },
  {
   "cell_type": "code",
   "execution_count": null,
   "id": "d322af7a",
   "metadata": {
    "id": "d322af7a"
   },
   "outputs": [],
   "source": [
    "class SampleActiveUsers(LoadSheddingPolicy):\n",
    "    \n",
    "    def __init__(self, user_activity_csv):\n",
    "        user_activity = pd.read_csv(\"user_active_time.csv\")\n",
    "        self.weights = user_activity.set_index(\"user_id\")[\"activity\"].to_dict()\n",
    "\n",
    "    def process(record: Record): \n",
    "        return random.random() < self.weights[record.user]"
   ]
  },
  {
   "cell_type": "markdown",
   "id": "705d2041",
   "metadata": {
    "id": "705d2041"
   },
   "source": [
    "Alternatively, we can create a key prioritization policy which prioritizes keys uses lottery scheduling. "
   ]
  },
  {
   "cell_type": "code",
   "execution_count": null,
   "id": "41549bfe",
   "metadata": {
    "colab": {
     "base_uri": "https://localhost:8080/"
    },
    "id": "41549bfe",
    "outputId": "225e7f43-4205-4efa-fde6-0162883ca4c2"
   },
   "outputs": [],
   "source": [
    "from ralf import PrioritizationPolicy\n",
    "from typing import List\n",
    "\n",
    "class LotteryScheduling(PrioritizationPolicy): \n",
    "    \n",
    "    def __init__(self, user_activity_csv): \n",
    "        user_activity = pd.read_csv(user_activity_csv)\n",
    "        self.weights = user_activity.set_index(\"user_id\")[\"activity\"].to_dict()\n",
    "        \n",
    "    def choose(self, keys: List): \n",
    "        # TODO: implement prioritized lottery scheduling \n",
    "        return random.choose(keys)\n",
    "\n",
    "user_vectors.add_prioritization_policy(LotteryScheduling, \"user_active_time.csv\")"
   ]
  },
  {
   "cell_type": "code",
   "execution_count": null,
   "id": "banner-suite",
   "metadata": {
    "id": "banner-suite"
   },
   "outputs": [],
   "source": []
  }
 ],
 "metadata": {
  "colab": {
   "name": "ralf Tutorial.ipynb",
   "provenance": []
  },
  "kernelspec": {
   "display_name": "Python 3.7.4 64-bit ('base': conda)",
   "language": "python",
   "name": "python37464bitbaseconda9114583a17cf498dbdf9713d49f5bef8"
  },
  "language_info": {
   "codemirror_mode": {
    "name": "ipython",
    "version": 3
   },
   "file_extension": ".py",
   "mimetype": "text/x-python",
   "name": "python",
   "nbconvert_exporter": "python",
   "pygments_lexer": "ipython3",
   "version": "3.7.4"
  }
 },
 "nbformat": 4,
 "nbformat_minor": 5
}
