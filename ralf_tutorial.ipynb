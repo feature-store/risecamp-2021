{
 "cells": [
  {
   "cell_type": "markdown",
   "id": "17006a17",
   "metadata": {
    "id": "17006a17"
   },
   "source": [
    "# Introduction \n",
    "This tutorial will go through how to setup a featurization pipeline in `ralf`. We'll setup a pipeline for computing user features given a data stream of user ratings. We'll then query the user features to predict the rating a user will give a movie. \n",
    "\n",
    "To do so, we'll do the following: \n",
    "1. Create feature tables from the movie lens dataset which are incrementally maintained by `ralf`\n",
    "2. Create a ralf client which queries the feature tables \n",
    "3. Implement load shedding policies to reduce feature computation cost"
   ]
  },
  {
   "cell_type": "code",
   "execution_count": null,
   "id": "El1ajoEAovX3",
   "metadata": {
    "colab": {
     "base_uri": "https://localhost:8080/"
    },
    "id": "El1ajoEAovX3",
    "outputId": "dcaf5c6c-3d82-4664-b406-c29d1b981a9a"
   },
   "outputs": [],
   "source": [
    "!pip uninstall -y ralf && pip install git+https://github.com/feature-store/ralf.git@api-for-tutorial"
   ]
  },
  {
   "cell_type": "markdown",
   "id": "a769d63d",
   "metadata": {
    "id": "a769d63d"
   },
   "source": [
    "# Creating a featurization pipeline \n",
    "We create a instance of ralf to that we can start creating tables. "
   ]
  },
  {
   "cell_type": "code",
   "execution_count": null,
   "id": "594cfd2c",
   "metadata": {
    "id": "594cfd2c"
   },
   "outputs": [],
   "source": [
    "from ralf import Ralf"
   ]
  },
  {
   "cell_type": "code",
   "execution_count": null,
   "id": "05405be3",
   "metadata": {
    "colab": {
     "base_uri": "https://localhost:8080/"
    },
    "id": "05405be3",
    "outputId": "f08bd445-4488-4fbb-e569-f186cbef01a2"
   },
   "outputs": [],
   "source": [
    "ralf_server = Ralf()"
   ]
  },
  {
   "cell_type": "markdown",
   "id": "644ace1a",
   "metadata": {
    "id": "644ace1a"
   },
   "source": [
    "### Creating Source Tables\n",
    "Source tables define the raw data sources that are run through ralf to become features. `ralf` lets you create both static batch (e.g. from a CSV) and dynamic streaming sources (e.g. from Kafka). \n",
    "\n",
    "To define a source, we implement a `SourceOperator`. "
   ]
  },
  {
   "cell_type": "code",
   "execution_count": null,
   "id": "b482acbe",
   "metadata": {
    "id": "b482acbe"
   },
   "outputs": [],
   "source": [
    "from ralf.operators.source import SourceOperator\n",
    "from ralf import Record\n",
    "import random\n",
    "import time\n",
    "from als import ALSModel, create_split\n",
    "import pandas as pd"
   ]
  },
  {
   "cell_type": "code",
   "execution_count": null,
   "id": "a596f9a8",
   "metadata": {},
   "outputs": [],
   "source": [
    "df = pd.read_csv(\"stream.csv\")\n",
    "train_df, test = create_split(df)"
   ]
  },
  {
   "cell_type": "code",
   "execution_count": null,
   "id": "f9df22df",
   "metadata": {
    "id": "f9df22df"
   },
   "outputs": [],
   "source": [
    "class RatingsSource(SourceOperator):\n",
    "    def __init__(self, schema):\n",
    "        super().__init__(schema)\n",
    "\n",
    "    def next(self):\n",
    "        time.sleep(0.01)\n",
    "        user_id = random.randint(1, 10)\n",
    "        movie_id = random.randint(100, 200)\n",
    "        rating = random.randint(1, 5)\n",
    "        return [Record(user=str(user_id), movie=movie_id, rating=rating)]"
   ]
  },
  {
   "cell_type": "markdown",
   "id": "e7f1523f",
   "metadata": {
    "id": "e7f1523f"
   },
   "source": [
    "We specify a schema using ralf's `Schema` object. "
   ]
  },
  {
   "cell_type": "code",
   "execution_count": null,
   "id": "1364670a",
   "metadata": {
    "id": "1364670a"
   },
   "outputs": [],
   "source": [
    "from ralf import Schema\n",
    "\n",
    "source_schema = Schema(\n",
    "    primary_key=\"user\", columns={\"user\": str, \"movie\": int, \"rating\": float}\n",
    ")"
   ]
  },
  {
   "cell_type": "markdown",
   "id": "d6199eca",
   "metadata": {
    "id": "d6199eca"
   },
   "source": [
    "We can now add the source to our ralf instance. "
   ]
  },
  {
   "cell_type": "code",
   "execution_count": null,
   "id": "3c678ee3",
   "metadata": {
    "id": "3c678ee3"
   },
   "outputs": [],
   "source": [
    "source = ralf_server.create_source(RatingsSource, args=(source_schema,))"
   ]
  },
  {
   "cell_type": "markdown",
   "id": "3909f7f7",
   "metadata": {
    "id": "3909f7f7"
   },
   "source": [
    "### Creating Feature Tables \n",
    "Now that we have data streaming into ralf through the source table, we can define derived feature tables from the source table. \n",
    "\n",
    "Feature tables follow an API similar to pandas dataframes. We define feature tables in terms of 1-2 parent tables and an operator which specifies how to transform parent data. \n",
    "\n",
    "\n",
    "For example, we can calculate the average rating for each user with an `AverageRating` operator: "
   ]
  },
  {
   "cell_type": "code",
   "execution_count": null,
   "id": "d84f91ba",
   "metadata": {
    "id": "d84f91ba"
   },
   "outputs": [],
   "source": [
    "from collections import defaultdict\n",
    "import numpy as np\n",
    "\n",
    "from ralf import Operator, Record"
   ]
  },
  {
   "cell_type": "code",
   "execution_count": null,
   "id": "d6ac4581",
   "metadata": {
    "id": "d6ac4581"
   },
   "outputs": [],
   "source": [
    "class AverageRating(Operator):\n",
    "    def __init__(self, schema):\n",
    "        self.user_ratings = defaultdict(list)\n",
    "\n",
    "        super().__init__(schema)\n",
    "\n",
    "    def on_record(self, record: Record):\n",
    "        self.user_ratings[record.user].append(record.rating)\n",
    "        ratings = np.array(self.user_ratings[record.user])\n",
    "        output_record = Record(user=record.user, average=ratings.mean())\n",
    "        return output_record  "
   ]
  },
  {
   "cell_type": "markdown",
   "id": "3c03ecef",
   "metadata": {
    "id": "3c03ecef"
   },
   "source": [
    "The `AverageRating` operator can be used to define a feature table containing the average rating for each user. "
   ]
  },
  {
   "cell_type": "code",
   "execution_count": null,
   "id": "8c6f3c99",
   "metadata": {
    "id": "8c6f3c99"
   },
   "outputs": [],
   "source": [
    "average_rating_schema = Schema(\n",
    "    primary_key=\"user\", columns={\"user\": str, \"average\": float}\n",
    ")\n",
    "average_rating = source.map(AverageRating, args=(average_rating_schema,))"
   ]
  },
  {
   "cell_type": "markdown",
   "id": "6b6651c9",
   "metadata": {
    "id": "6b6651c9"
   },
   "source": [
    "### Adding Processing Policies\n",
    "In many cases, we may only need to sub-sample some of the data to get the features we need. We can add a simple load shedding policy to the `average_rating` table. "
   ]
  },
  {
   "cell_type": "code",
   "execution_count": null,
   "id": "e8cf588e",
   "metadata": {
    "id": "e8cf588e"
   },
   "outputs": [],
   "source": [
    "from ralf import LoadSheddingPolicy, Record"
   ]
  },
  {
   "cell_type": "code",
   "execution_count": null,
   "id": "ec3d18c7",
   "metadata": {
    "colab": {
     "base_uri": "https://localhost:8080/"
    },
    "id": "ec3d18c7",
    "outputId": "880d67b0-5f5b-46e6-a4ba-78f9512bf5da"
   },
   "outputs": [],
   "source": [
    "class SampleHalf(LoadSheddingPolicy):\n",
    "    \n",
    "    def process(self, candidate_record: Record, current_record: Record) -> bool:\n",
    "        return random.random() < 0.5\n",
    "\n",
    "average_rating.add_load_shedding(SampleHalf)\n",
    "average_rating.as_queryable(\"average\")"
   ]
  },
  {
   "cell_type": "code",
   "execution_count": null,
   "id": "c2757e59",
   "metadata": {
    "colab": {
     "base_uri": "https://localhost:8080/"
    },
    "id": "c2757e59",
    "outputId": "2d4bcee0-217a-48fb-e4eb-842169552e37"
   },
   "outputs": [],
   "source": [
    "ralf_server.run()"
   ]
  },
  {
   "cell_type": "markdown",
   "id": "7715b4b9",
   "metadata": {
    "id": "7715b4b9"
   },
   "source": [
    "## Creating a `ralf` Client \n",
    "Now that we have a simple pipeline, we can query the ralf server for features. "
   ]
  },
  {
   "cell_type": "code",
   "execution_count": null,
   "id": "adbc90c1",
   "metadata": {
    "id": "adbc90c1"
   },
   "outputs": [],
   "source": [
    "from ralf import RalfClient\n",
    "ralf_client = RalfClient()"
   ]
  },
  {
   "cell_type": "code",
   "execution_count": null,
   "id": "60b9cfa2",
   "metadata": {
    "colab": {
     "base_uri": "https://localhost:8080/"
    },
    "id": "60b9cfa2",
    "outputId": "ae01a426-1a32-4f34-bb91-3ce353add0b4"
   },
   "outputs": [],
   "source": [
    "ralf_client.point_query(table_name=\"average\", key=1)"
   ]
  },
  {
   "cell_type": "code",
   "execution_count": null,
   "id": "fbde8a1f",
   "metadata": {
    "colab": {
     "base_uri": "https://localhost:8080/"
    },
    "id": "fbde8a1f",
    "outputId": "7a4a9598-0e4f-4c65-ce22-393b4ff0ca67"
   },
   "outputs": [],
   "source": [
    "ralf_client.bulk_query(table_name=\"average\")"
   ]
  },
  {
   "cell_type": "markdown",
   "id": "e69ee3a4",
   "metadata": {
    "id": "e69ee3a4"
   },
   "source": [
    "# Advanced: Maintaining user vectors \n",
    "Now that we've setup a simple feature table and run some queries, we can create a more realistic feature table: a user vector representing their movie tastes. \n",
    "\n",
    "In this example, we'll assume we already have pre-computed movie vectors which are held constant. User vectors are updated over time as new rating information is recieved. "
   ]
  },
  {
   "cell_type": "code",
   "execution_count": null,
   "id": "flying-jumping",
   "metadata": {
    "colab": {
     "base_uri": "https://localhost:8080/"
    },
    "id": "flying-jumping",
    "outputId": "a3033c29-e9bf-40f3-8269-f3787f08f1d4"
   },
   "outputs": [],
   "source": [
    "import sys\n",
    "!{sys.executable} -m pip install pandas"
   ]
  },
  {
   "cell_type": "code",
   "execution_count": null,
   "id": "N3Ei9HQfpctO",
   "metadata": {
    "colab": {
     "base_uri": "https://localhost:8080/"
    },
    "id": "N3Ei9HQfpctO",
    "outputId": "b76400c5-3138-4ec7-d3cf-f5af168139f1"
   },
   "outputs": [],
   "source": [
    "!wget https://raw.githubusercontent.com/feature-store/risecamp-2021/main/user_active_time.csv\n",
    "!wget https://raw.githubusercontent.com/feature-store/risecamp-2021/main/movie_vectors.csv"
   ]
  },
  {
   "cell_type": "code",
   "execution_count": null,
   "id": "113be8d2",
   "metadata": {
    "colab": {
     "base_uri": "https://localhost:8080/"
    },
    "id": "113be8d2",
    "outputId": "bcb587a8-76c8-43f9-ff3d-ddbf3483981e"
   },
   "outputs": [],
   "source": [
    "import pandas as pd\n",
    "\n",
    "class UserVector(Operator):\n",
    "    \n",
    "    def __init__(self, schema): \n",
    "        super().__init__(schema)\n",
    "        self.model = ALSModel(.1)\n",
    "    \n",
    "    def on_record(self, record: Record):\n",
    "        updated_user_vector = self.model.als_step(record.user, record.movie, record.rating)\n",
    "        output_record = Record(user=record.user, user_vector=updated_user_vector)\n",
    "        return output_record  \n",
    "    \n",
    "user_schema = Schema(\n",
    "    primary_key=\"user\", columns={\"user\": str, \"user_vector\": np.array}\n",
    ")\n",
    "user_vectors = source.map(UserVector, args=(user_schema,))\n",
    "user_vectors.as_queryable(\"user_vectors\")"
   ]
  },
  {
   "cell_type": "code",
   "execution_count": null,
   "id": "708e7fa2",
   "metadata": {
    "colab": {
     "base_uri": "https://localhost:8080/"
    },
    "id": "708e7fa2",
    "outputId": "def00a8b-32b0-4b2e-b41b-57f0070746d9"
   },
   "outputs": [],
   "source": [
    "ralf_server.run()"
   ]
  },
  {
   "cell_type": "code",
   "execution_count": null,
   "id": "7371d5c7",
   "metadata": {
    "colab": {
     "base_uri": "https://localhost:8080/"
    },
    "id": "7371d5c7",
    "outputId": "18290362-6035-4bb7-ff80-0c56f6979041"
   },
   "outputs": [],
   "source": [
    "ralf_client.bulk_query(table_name=\"user_vectors\")"
   ]
  },
  {
   "cell_type": "markdown",
   "id": "224976b8",
   "metadata": {
    "id": "224976b8"
   },
   "source": [
    "## Prioritizing Active Users \n",
    "Ralf allows for key-level prioritization policies. Say that we want to prioritize computing updates to user vectors for users who especially active. We can use activity data to implement a prioritized lottery scheduling policy. "
   ]
  },
  {
   "cell_type": "code",
   "execution_count": null,
   "id": "6dfb7aa8",
   "metadata": {
    "colab": {
     "base_uri": "https://localhost:8080/",
     "height": 359
    },
    "id": "6dfb7aa8",
    "outputId": "0e8d7bb9-2c6c-45e6-b712-2bdd6adfb4af"
   },
   "outputs": [],
   "source": [
    "user_activity = pd.read_csv(\"user_active_time.csv\")\n",
    "user_activity"
   ]
  },
  {
   "cell_type": "markdown",
   "id": "2bc70322",
   "metadata": {
    "id": "2bc70322"
   },
   "source": [
    "For example, we can set the subsampling rate of the data to be inversely proportional to how active the user is. "
   ]
  },
  {
   "cell_type": "code",
   "execution_count": null,
   "id": "d322af7a",
   "metadata": {
    "id": "d322af7a"
   },
   "outputs": [],
   "source": [
    "class SampleActiveUsers(LoadSheddingPolicy):\n",
    "    \n",
    "    def __init__(self, user_activity_csv):\n",
    "        user_activity = pd.read_csv(\"user_active_time.csv\")\n",
    "        self.weights = user_activity.set_index(\"user_id\")[\"activity\"].to_dict()\n",
    "\n",
    "    def process(record: Record): \n",
    "        return random.random() < self.weights[record.user]"
   ]
  },
  {
   "cell_type": "markdown",
   "id": "705d2041",
   "metadata": {
    "id": "705d2041"
   },
   "source": [
    "Alternatively, we can create a key prioritization policy which prioritizes keys uses lottery scheduling. "
   ]
  },
  {
   "cell_type": "code",
   "execution_count": null,
   "id": "41549bfe",
   "metadata": {
    "colab": {
     "base_uri": "https://localhost:8080/"
    },
    "id": "41549bfe",
    "outputId": "225e7f43-4205-4efa-fde6-0162883ca4c2"
   },
   "outputs": [],
   "source": [
    "from ralf import PrioritizationPolicy\n",
    "from typing import List\n",
    "\n",
    "class LotteryScheduling(PrioritizationPolicy): \n",
    "    \n",
    "    def __init__(self, user_activity_csv): \n",
    "        user_activity = pd.read_csv(user_activity_csv)\n",
    "        self.weights = user_activity.set_index(\"user_id\")[\"activity\"].to_dict()\n",
    "        \n",
    "    def choose(self, keys: List): \n",
    "        # TODO: implement prioritized lottery scheduling \n",
    "        return random.choose(keys)\n",
    "\n",
    "user_vectors.add_prioritization_policy(LotteryScheduling, \"user_active_time.csv\")"
   ]
  },
  {
   "cell_type": "code",
   "execution_count": null,
   "id": "banner-suite",
   "metadata": {
    "id": "banner-suite"
   },
   "outputs": [],
   "source": []
  }
 ],
 "metadata": {
  "colab": {
   "name": "ralf Tutorial.ipynb",
   "provenance": []
  },
  "kernelspec": {
   "display_name": "risecamp-2021",
   "language": "python",
   "name": "risecamp-2021"
  },
  "language_info": {
   "codemirror_mode": {
    "name": "ipython",
    "version": 3
   },
   "file_extension": ".py",
   "mimetype": "text/x-python",
   "name": "python",
   "nbconvert_exporter": "python",
   "pygments_lexer": "ipython3",
   "version": "3.8.8"
  }
 },
 "nbformat": 4,
 "nbformat_minor": 5
}
