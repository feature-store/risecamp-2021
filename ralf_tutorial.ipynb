{
  "nbformat": 4,
  "nbformat_minor": 5,
  "metadata": {
    "kernelspec": {
      "display_name": "risecamp-2021",
      "language": "python",
      "name": "risecamp-2021"
    },
    "language_info": {
      "codemirror_mode": {
        "name": "ipython",
        "version": 3
      },
      "file_extension": ".py",
      "mimetype": "text/x-python",
      "name": "python",
      "nbconvert_exporter": "python",
      "pygments_lexer": "ipython3",
      "version": "3.8.8"
    },
    "colab": {
      "name": "ralf Tutorial.ipynb",
      "provenance": []
    }
  },
  "cells": [
    {
      "cell_type": "markdown",
      "metadata": {
        "id": "17006a17"
      },
      "source": [
        "# Introduction \n",
        "This tutorial will go through how to setup a featurization pipeline in `ralf`. We'll setup a pipeline for computing user features given a data stream of user ratings. We'll then query the user features to predict the rating a user will give a movie. \n",
        "\n",
        "To do so, we'll do the following: \n",
        "1. Create feature tables from the movie lens dataset which are incrementally maintained by `ralf`\n",
        "2. Create a ralf client which queries the feature tables \n",
        "3. Implement load shedding policies to reduce feature computation cost"
      ],
      "id": "17006a17"
    },
    {
      "cell_type": "code",
      "metadata": {
        "id": "El1ajoEAovX3",
        "outputId": "dcaf5c6c-3d82-4664-b406-c29d1b981a9a",
        "colab": {
          "base_uri": "https://localhost:8080/"
        }
      },
      "source": [
        "!pip uninstall -y ralf && pip install git+https://github.com/feature-store/ralf.git@api-for-tutorial"
      ],
      "id": "El1ajoEAovX3",
      "execution_count": 1,
      "outputs": [
        {
          "output_type": "stream",
          "name": "stdout",
          "text": [
            "Found existing installation: ralf 0.0.1\n",
            "Uninstalling ralf-0.0.1:\n",
            "  Successfully uninstalled ralf-0.0.1\n",
            "Collecting git+https://github.com/feature-store/ralf.git@api-for-tutorial\n",
            "  Cloning https://github.com/feature-store/ralf.git (to revision api-for-tutorial) to /tmp/pip-req-build-0pftqwst\n",
            "  Running command git clone -q https://github.com/feature-store/ralf.git /tmp/pip-req-build-0pftqwst\n",
            "  Running command git checkout -b api-for-tutorial --track origin/api-for-tutorial\n",
            "  Switched to a new branch 'api-for-tutorial'\n",
            "  Branch 'api-for-tutorial' set up to track remote branch 'api-for-tutorial' from 'origin'.\n",
            "Requirement already satisfied: ray[serve] in /usr/local/lib/python3.7/dist-packages (from ralf==0.0.1) (1.8.0)\n",
            "Requirement already satisfied: requests in /usr/local/lib/python3.7/dist-packages (from ralf==0.0.1) (2.23.0)\n",
            "Requirement already satisfied: redis>=3.5.0 in /usr/local/lib/python3.7/dist-packages (from ray[serve]->ralf==0.0.1) (3.5.3)\n",
            "Requirement already satisfied: grpcio>=1.28.1 in /usr/local/lib/python3.7/dist-packages (from ray[serve]->ralf==0.0.1) (1.41.0)\n",
            "Requirement already satisfied: attrs in /usr/local/lib/python3.7/dist-packages (from ray[serve]->ralf==0.0.1) (21.2.0)\n",
            "Requirement already satisfied: protobuf>=3.15.3 in /usr/local/lib/python3.7/dist-packages (from ray[serve]->ralf==0.0.1) (3.17.3)\n",
            "Requirement already satisfied: filelock in /usr/local/lib/python3.7/dist-packages (from ray[serve]->ralf==0.0.1) (3.3.0)\n",
            "Requirement already satisfied: click>=7.0 in /usr/local/lib/python3.7/dist-packages (from ray[serve]->ralf==0.0.1) (7.1.2)\n",
            "Requirement already satisfied: pyyaml in /usr/local/lib/python3.7/dist-packages (from ray[serve]->ralf==0.0.1) (3.13)\n",
            "Requirement already satisfied: numpy>=1.16 in /usr/local/lib/python3.7/dist-packages (from ray[serve]->ralf==0.0.1) (1.19.5)\n",
            "Requirement already satisfied: jsonschema in /usr/local/lib/python3.7/dist-packages (from ray[serve]->ralf==0.0.1) (2.6.0)\n",
            "Requirement already satisfied: msgpack<2.0.0,>=1.0.0 in /usr/local/lib/python3.7/dist-packages (from ray[serve]->ralf==0.0.1) (1.0.2)\n",
            "Requirement already satisfied: starlette in /usr/local/lib/python3.7/dist-packages (from ray[serve]->ralf==0.0.1) (0.16.0)\n",
            "Requirement already satisfied: uvicorn in /usr/local/lib/python3.7/dist-packages (from ray[serve]->ralf==0.0.1) (0.15.0)\n",
            "Requirement already satisfied: fastapi in /usr/local/lib/python3.7/dist-packages (from ray[serve]->ralf==0.0.1) (0.70.0)\n",
            "Requirement already satisfied: six>=1.5.2 in /usr/local/lib/python3.7/dist-packages (from grpcio>=1.28.1->ray[serve]->ralf==0.0.1) (1.15.0)\n",
            "Requirement already satisfied: pydantic!=1.7,!=1.7.1,!=1.7.2,!=1.7.3,!=1.8,!=1.8.1,<2.0.0,>=1.6.2 in /usr/local/lib/python3.7/dist-packages (from fastapi->ray[serve]->ralf==0.0.1) (1.8.2)\n",
            "Requirement already satisfied: typing-extensions in /usr/local/lib/python3.7/dist-packages (from starlette->ray[serve]->ralf==0.0.1) (3.7.4.3)\n",
            "Requirement already satisfied: anyio<4,>=3.0.0 in /usr/local/lib/python3.7/dist-packages (from starlette->ray[serve]->ralf==0.0.1) (3.3.4)\n",
            "Requirement already satisfied: idna>=2.8 in /usr/local/lib/python3.7/dist-packages (from anyio<4,>=3.0.0->starlette->ray[serve]->ralf==0.0.1) (2.10)\n",
            "Requirement already satisfied: sniffio>=1.1 in /usr/local/lib/python3.7/dist-packages (from anyio<4,>=3.0.0->starlette->ray[serve]->ralf==0.0.1) (1.2.0)\n",
            "Requirement already satisfied: certifi>=2017.4.17 in /usr/local/lib/python3.7/dist-packages (from requests->ralf==0.0.1) (2021.5.30)\n",
            "Requirement already satisfied: chardet<4,>=3.0.2 in /usr/local/lib/python3.7/dist-packages (from requests->ralf==0.0.1) (3.0.4)\n",
            "Requirement already satisfied: urllib3!=1.25.0,!=1.25.1,<1.26,>=1.21.1 in /usr/local/lib/python3.7/dist-packages (from requests->ralf==0.0.1) (1.24.3)\n",
            "Requirement already satisfied: h11>=0.8 in /usr/local/lib/python3.7/dist-packages (from uvicorn->ray[serve]->ralf==0.0.1) (0.12.0)\n",
            "Requirement already satisfied: asgiref>=3.4.0 in /usr/local/lib/python3.7/dist-packages (from uvicorn->ray[serve]->ralf==0.0.1) (3.4.1)\n",
            "Building wheels for collected packages: ralf\n",
            "  Building wheel for ralf (setup.py) ... \u001b[?25l\u001b[?25hdone\n",
            "  Created wheel for ralf: filename=ralf-0.0.1-py3-none-any.whl size=16461 sha256=a7085b1cd5ef0f33714df533f0574a43e453904e886e82d639535ae695d7ff30\n",
            "  Stored in directory: /tmp/pip-ephem-wheel-cache-q1b8wcqn/wheels/d1/cd/60/38fb8c5337bf668a95de0d6476d458cb419246dfc6e11671d2\n",
            "Successfully built ralf\n",
            "Installing collected packages: ralf\n",
            "Successfully installed ralf-0.0.1\n"
          ]
        }
      ]
    },
    {
      "cell_type": "markdown",
      "metadata": {
        "id": "a769d63d"
      },
      "source": [
        "# Creating a featurization pipeline \n",
        "We create a instance of ralf to that we can start creating tables. "
      ],
      "id": "a769d63d"
    },
    {
      "cell_type": "code",
      "metadata": {
        "id": "594cfd2c"
      },
      "source": [
        "from ralf import Ralf"
      ],
      "id": "594cfd2c",
      "execution_count": 2,
      "outputs": []
    },
    {
      "cell_type": "code",
      "metadata": {
        "id": "05405be3",
        "outputId": "f08bd445-4488-4fbb-e569-f186cbef01a2",
        "colab": {
          "base_uri": "https://localhost:8080/"
        }
      },
      "source": [
        "ralf_server = Ralf()"
      ],
      "id": "05405be3",
      "execution_count": 3,
      "outputs": [
        {
          "output_type": "stream",
          "name": "stdout",
          "text": [
            "Storing operators metrics at /tmp/ralf/1636007707_metrics\n"
          ]
        }
      ]
    },
    {
      "cell_type": "markdown",
      "metadata": {
        "id": "644ace1a"
      },
      "source": [
        "### Creating Source Tables\n",
        "Source tables define the raw data sources that are run through ralf to become features. `ralf` lets you create both static batch (e.g. from a CSV) and dynamic streaming sources (e.g. from Kafka). \n",
        "\n",
        "To define a source, we implement a `SourceOperator`. "
      ],
      "id": "644ace1a"
    },
    {
      "cell_type": "code",
      "metadata": {
        "id": "b482acbe"
      },
      "source": [
        "from ralf.operators.source import SourceOperator\n",
        "from ralf import Record\n",
        "import random\n",
        "import time"
      ],
      "id": "b482acbe",
      "execution_count": 4,
      "outputs": []
    },
    {
      "cell_type": "code",
      "metadata": {
        "id": "f9df22df"
      },
      "source": [
        "class RatingsSource(SourceOperator):\n",
        "    def __init__(self, schema, kafka_topic):\n",
        "        self.topic = kafka_topic\n",
        "\n",
        "        super().__init__(schema)\n",
        "\n",
        "    def next(self):\n",
        "        time.sleep(0.01)\n",
        "        user_id = random.randint(1, 10)\n",
        "        movie_id = random.randint(100, 200)\n",
        "        rating = random.randint(1, 5)\n",
        "        return [Record(user=str(user_id), movie=movie_id, rating=rating)]"
      ],
      "id": "f9df22df",
      "execution_count": 5,
      "outputs": []
    },
    {
      "cell_type": "markdown",
      "metadata": {
        "id": "e7f1523f"
      },
      "source": [
        "We specify a schema using ralf's `Schema` object. "
      ],
      "id": "e7f1523f"
    },
    {
      "cell_type": "code",
      "metadata": {
        "id": "1364670a"
      },
      "source": [
        "from ralf import Schema\n",
        "\n",
        "source_schema = Schema(\n",
        "    primary_key=\"user\", columns={\"user\": str, \"movie\": int, \"rating\": float}\n",
        ")"
      ],
      "id": "1364670a",
      "execution_count": 6,
      "outputs": []
    },
    {
      "cell_type": "markdown",
      "metadata": {
        "id": "d6199eca"
      },
      "source": [
        "We can now add the source to our ralf instance. "
      ],
      "id": "d6199eca"
    },
    {
      "cell_type": "code",
      "metadata": {
        "id": "3c678ee3"
      },
      "source": [
        "source = ralf_server.create_source(RatingsSource, args=(source_schema, \"ratings_topic\"))"
      ],
      "id": "3c678ee3",
      "execution_count": 7,
      "outputs": []
    },
    {
      "cell_type": "markdown",
      "metadata": {
        "id": "3909f7f7"
      },
      "source": [
        "### Creating Feature Tables \n",
        "Now that we have data streaming into ralf through the source table, we can define derived feature tables from the source table. \n",
        "\n",
        "Feature tables follow an API similar to pandas dataframes. We define feature tables in terms of 1-2 parent tables and an operator which specifies how to transform parent data. \n",
        "\n",
        "\n",
        "For example, we can calculate the average rating for each user with an `AverageRating` operator: "
      ],
      "id": "3909f7f7"
    },
    {
      "cell_type": "code",
      "metadata": {
        "id": "d84f91ba"
      },
      "source": [
        "from collections import defaultdict\n",
        "import numpy as np\n",
        "\n",
        "from ralf import Operator, Record"
      ],
      "id": "d84f91ba",
      "execution_count": 8,
      "outputs": []
    },
    {
      "cell_type": "code",
      "metadata": {
        "id": "d6ac4581"
      },
      "source": [
        "class AverageRating(Operator):\n",
        "    def __init__(self, schema):\n",
        "        self.user_ratings = defaultdict(list)\n",
        "\n",
        "        super().__init__(schema)\n",
        "\n",
        "    def on_record(self, record: Record):\n",
        "        self.user_ratings[record.user].append(record.rating)\n",
        "        ratings = np.array(self.user_ratings[record.user])\n",
        "        output_record = Record(user=record.user, average=ratings.mean())\n",
        "        return output_record  "
      ],
      "id": "d6ac4581",
      "execution_count": 9,
      "outputs": []
    },
    {
      "cell_type": "markdown",
      "metadata": {
        "id": "3c03ecef"
      },
      "source": [
        "The `AverageRating` operator can be used to define a feature table containing the average rating for each user. "
      ],
      "id": "3c03ecef"
    },
    {
      "cell_type": "code",
      "metadata": {
        "id": "8c6f3c99"
      },
      "source": [
        "average_rating_schema = Schema(\n",
        "    primary_key=\"user\", columns={\"user\": str, \"average\": float}\n",
        ")\n",
        "average_rating = source.map(AverageRating, args=(average_rating_schema,))"
      ],
      "id": "8c6f3c99",
      "execution_count": 10,
      "outputs": []
    },
    {
      "cell_type": "markdown",
      "metadata": {
        "id": "6b6651c9"
      },
      "source": [
        "### Adding Processing Policies\n",
        "In many cases, we may only need to sub-sample some of the data to get the features we need. We can add a simple load shedding policy to the `average_rating` table. "
      ],
      "id": "6b6651c9"
    },
    {
      "cell_type": "code",
      "metadata": {
        "id": "e8cf588e"
      },
      "source": [
        "from ralf import LoadSheddingPolicy, Record"
      ],
      "id": "e8cf588e",
      "execution_count": 11,
      "outputs": []
    },
    {
      "cell_type": "code",
      "metadata": {
        "id": "ec3d18c7",
        "outputId": "880d67b0-5f5b-46e6-a4ba-78f9512bf5da",
        "colab": {
          "base_uri": "https://localhost:8080/"
        }
      },
      "source": [
        "class SampleHalf(LoadSheddingPolicy):\n",
        "    \n",
        "    def process(self, candidate_record: Record, current_record: Record) -> bool:\n",
        "        return random.random() < 0.5\n",
        "\n",
        "average_rating.add_load_shedding(SampleHalf)\n",
        "average_rating.as_queryable(\"average\")"
      ],
      "id": "ec3d18c7",
      "execution_count": 12,
      "outputs": [
        {
          "output_type": "execute_result",
          "data": {
            "text/plain": [
              "Table(AverageRating)"
            ]
          },
          "metadata": {},
          "execution_count": 12
        }
      ]
    },
    {
      "cell_type": "code",
      "metadata": {
        "id": "c2757e59",
        "outputId": "2d4bcee0-217a-48fb-e4eb-842169552e37",
        "colab": {
          "base_uri": "https://localhost:8080/"
        }
      },
      "source": [
        "ralf_server.run()"
      ],
      "id": "c2757e59",
      "execution_count": 13,
      "outputs": [
        {
          "output_type": "stream",
          "name": "stdout",
          "text": [
            "{'Table(AverageRating)': {'actor_pool_size': 1,\n",
            "                          'actor_state': [{'cache_size': 0,\n",
            "                                           'lazy': False,\n",
            "                                           'process': {'cpu_percent': 2.3,\n",
            "                                                       'memory_mb': 102.5546875},\n",
            "                                           'queue_size': {},\n",
            "                                           'table': {'num_deletes': 0,\n",
            "                                                     'num_records': 0,\n",
            "                                                     'num_updates': 0},\n",
            "                                           'thread_pool_size': 4}],\n",
            "                          'children': [],\n",
            "                          'is_source': False,\n",
            "                          'operator_args': ['<ralf.state.Schema object at '\n",
            "                                            '0x7f7d7aca9d50>'],\n",
            "                          'operator_kwargs': {},\n",
            "                          'operator_name': 'Table(AverageRating)',\n",
            "                          'parents': ['Table(RatingsSource)']},\n",
            " 'Table(RatingsSource)': {'actor_pool_size': 1,\n",
            "                          'actor_state': [{'cache_size': 0,\n",
            "                                           'lazy': False,\n",
            "                                           'process': {'cpu_percent': 1.8,\n",
            "                                                       'memory_mb': 102.49609375},\n",
            "                                           'queue_size': {},\n",
            "                                           'table': {'num_deletes': 0,\n",
            "                                                     'num_records': 0,\n",
            "                                                     'num_updates': 0},\n",
            "                                           'thread_pool_size': 4}],\n",
            "                          'children': ['Table(AverageRating)'],\n",
            "                          'is_source': True,\n",
            "                          'operator_args': ['<ralf.state.Schema object at '\n",
            "                                            '0x7f7d7ac90350>',\n",
            "                                            'ratings_topic'],\n",
            "                          'operator_kwargs': {},\n",
            "                          'operator_name': 'Table(RatingsSource)',\n",
            "                          'parents': []}}\n"
          ]
        },
        {
          "output_type": "stream",
          "name": "stderr",
          "text": [
            "\u001b[2m\u001b[36m(pid=1460)\u001b[0m 2021-11-04 06:35:22,725\tINFO checkpoint_path.py:15 -- Using RayInternalKVStore for controller checkpoint and recovery.\n",
            "\u001b[2m\u001b[36m(pid=1460)\u001b[0m 2021-11-04 06:35:22,730\tINFO http_state.py:101 -- Starting HTTP proxy with name 'SERVE_CONTROLLER_ACTOR:PDeMtb:SERVE_PROXY_ACTOR-node:172.28.0.2-0' on node 'node:172.28.0.2-0' listening on '127.0.0.1:8000'\n",
            "2021-11-04 06:35:23,605\tINFO api.py:441 -- Started Serve instance in namespace 'a4268eab-789d-4b73-a75e-c280d6828003'.\n",
            "\u001b[2m\u001b[36m(pid=1489)\u001b[0m INFO:     Started server process [1489]\n",
            "2021-11-04 06:35:23,648\tINFO api.py:240 -- Updating deployment 'QueryableServer'. component=serve deployment=QueryableServer\n",
            "\u001b[2m\u001b[36m(pid=1460)\u001b[0m 2021-11-04 06:35:23,688\tINFO backend_state.py:910 -- Adding 1 replicas to deployment 'QueryableServer'. component=serve deployment=QueryableServer\n",
            "2021-11-04 06:35:24,655\tINFO api.py:248 -- Deployment 'QueryableServer' is ready at `http://127.0.0.1:8000/`. component=serve deployment=QueryableServer\n"
          ]
        }
      ]
    },
    {
      "cell_type": "markdown",
      "metadata": {
        "id": "7715b4b9"
      },
      "source": [
        "## Creating a `ralf` Client \n",
        "Now that we have a simple pipeline, we can query the ralf server for features. "
      ],
      "id": "7715b4b9"
    },
    {
      "cell_type": "code",
      "metadata": {
        "id": "adbc90c1"
      },
      "source": [
        "from ralf import RalfClient\n",
        "ralf_client = RalfClient()"
      ],
      "id": "adbc90c1",
      "execution_count": 14,
      "outputs": []
    },
    {
      "cell_type": "code",
      "metadata": {
        "id": "60b9cfa2",
        "outputId": "ae01a426-1a32-4f34-bb91-3ce353add0b4",
        "colab": {
          "base_uri": "https://localhost:8080/"
        }
      },
      "source": [
        "ralf_client.point_query(table_name=\"average\", key=1)"
      ],
      "id": "60b9cfa2",
      "execution_count": 15,
      "outputs": [
        {
          "output_type": "stream",
          "name": "stdout",
          "text": [
            "querying http://localhost:8000/table/average/1...\n"
          ]
        },
        {
          "output_type": "execute_result",
          "data": {
            "text/plain": [
              "{'average': 3.2222222222222223, 'user': '1'}"
            ]
          },
          "metadata": {},
          "execution_count": 15
        }
      ]
    },
    {
      "cell_type": "code",
      "metadata": {
        "id": "fbde8a1f",
        "outputId": "7a4a9598-0e4f-4c65-ce22-393b4ff0ca67",
        "colab": {
          "base_uri": "https://localhost:8080/"
        }
      },
      "source": [
        "ralf_client.bulk_query(table_name=\"average\")"
      ],
      "id": "fbde8a1f",
      "execution_count": 16,
      "outputs": [
        {
          "output_type": "stream",
          "name": "stdout",
          "text": [
            "querying http://localhost:8000/table/average...\n"
          ]
        },
        {
          "output_type": "execute_result",
          "data": {
            "text/plain": [
              "[{'average': 3.206896551724138, 'user': '1'},\n",
              " {'average': 3.0, 'user': '2'},\n",
              " {'average': 3.1666666666666665, 'user': '8'},\n",
              " {'average': 3.3125, 'user': '6'},\n",
              " {'average': 3.225806451612903, 'user': '10'},\n",
              " {'average': 3.2962962962962963, 'user': '7'},\n",
              " {'average': 3.0, 'user': '4'},\n",
              " {'average': 3.081081081081081, 'user': '9'},\n",
              " {'average': 2.78125, 'user': '3'},\n",
              " {'average': 3.0, 'user': '5'}]"
            ]
          },
          "metadata": {},
          "execution_count": 16
        }
      ]
    },
    {
      "cell_type": "markdown",
      "metadata": {
        "id": "e69ee3a4"
      },
      "source": [
        "# Advanced: Maintaining user vectors \n",
        "Now that we've setup a simple feature table and run some queries, we can create a more realistic feature table: a user vector representing their movie tastes. \n",
        "\n",
        "In this example, we'll assume we already have pre-computed movie vectors which are held constant. User vectors are updated over time as new rating information is recieved. "
      ],
      "id": "e69ee3a4"
    },
    {
      "cell_type": "code",
      "metadata": {
        "id": "flying-jumping",
        "outputId": "a3033c29-e9bf-40f3-8269-f3787f08f1d4",
        "colab": {
          "base_uri": "https://localhost:8080/"
        }
      },
      "source": [
        "import sys\n",
        "!{sys.executable} -m pip install pandas"
      ],
      "id": "flying-jumping",
      "execution_count": 17,
      "outputs": [
        {
          "output_type": "stream",
          "name": "stdout",
          "text": [
            "Requirement already satisfied: pandas in /usr/local/lib/python3.7/dist-packages (1.1.5)\n",
            "Requirement already satisfied: pytz>=2017.2 in /usr/local/lib/python3.7/dist-packages (from pandas) (2018.9)\n",
            "Requirement already satisfied: python-dateutil>=2.7.3 in /usr/local/lib/python3.7/dist-packages (from pandas) (2.8.2)\n",
            "Requirement already satisfied: numpy>=1.15.4 in /usr/local/lib/python3.7/dist-packages (from pandas) (1.19.5)\n",
            "Requirement already satisfied: six>=1.5 in /usr/local/lib/python3.7/dist-packages (from python-dateutil>=2.7.3->pandas) (1.15.0)\n"
          ]
        }
      ]
    },
    {
      "cell_type": "code",
      "metadata": {
        "id": "N3Ei9HQfpctO",
        "outputId": "b76400c5-3138-4ec7-d3cf-f5af168139f1",
        "colab": {
          "base_uri": "https://localhost:8080/"
        }
      },
      "source": [
        "!wget https://raw.githubusercontent.com/feature-store/risecamp-2021/main/user_active_time.csv\n",
        "!wget https://raw.githubusercontent.com/feature-store/risecamp-2021/main/movie_vectors.csv"
      ],
      "id": "N3Ei9HQfpctO",
      "execution_count": 18,
      "outputs": [
        {
          "output_type": "stream",
          "name": "stdout",
          "text": [
            "--2021-11-04 06:35:38--  https://raw.githubusercontent.com/feature-store/risecamp-2021/main/user_active_time.csv\n",
            "Resolving raw.githubusercontent.com (raw.githubusercontent.com)... 185.199.108.133, 185.199.109.133, 185.199.111.133, ...\n",
            "Connecting to raw.githubusercontent.com (raw.githubusercontent.com)|185.199.108.133|:443... connected.\n",
            "HTTP request sent, awaiting response... 200 OK\n",
            "Length: 80 [text/plain]\n",
            "Saving to: ‘user_active_time.csv.1’\n",
            "\n",
            "\ruser_active_time.cs   0%[                    ]       0  --.-KB/s               \ruser_active_time.cs 100%[===================>]      80  --.-KB/s    in 0s      \n",
            "\n",
            "2021-11-04 06:35:38 (3.65 MB/s) - ‘user_active_time.csv.1’ saved [80/80]\n",
            "\n",
            "--2021-11-04 06:35:38--  https://raw.githubusercontent.com/feature-store/risecamp-2021/main/movie_vectors.csv\n",
            "Resolving raw.githubusercontent.com (raw.githubusercontent.com)... 185.199.108.133, 185.199.109.133, 185.199.110.133, ...\n",
            "Connecting to raw.githubusercontent.com (raw.githubusercontent.com)|185.199.108.133|:443... connected.\n",
            "HTTP request sent, awaiting response... 200 OK\n",
            "Length: 5201 (5.1K) [text/plain]\n",
            "Saving to: ‘movie_vectors.csv.1’\n",
            "\n",
            "movie_vectors.csv.1 100%[===================>]   5.08K  --.-KB/s    in 0s      \n",
            "\n",
            "2021-11-04 06:35:38 (38.2 MB/s) - ‘movie_vectors.csv.1’ saved [5201/5201]\n",
            "\n"
          ]
        }
      ]
    },
    {
      "cell_type": "code",
      "metadata": {
        "id": "113be8d2",
        "outputId": "bcb587a8-76c8-43f9-ff3d-ddbf3483981e",
        "colab": {
          "base_uri": "https://localhost:8080/"
        }
      },
      "source": [
        "import pandas as pd\n",
        "\n",
        "class UserVector(Operator):\n",
        "    \n",
        "    def __init__(self, schema, movie_vectors_file): \n",
        "        self.user_ratings = {}\n",
        "        self.movie_vectors = pd.read_csv(movie_vectors_file)\n",
        "        \n",
        "        super().__init__(schema)\n",
        "    \n",
        "    def on_record(self, record: Record):\n",
        "        # TODO: add ALS thing \n",
        "        output_record = Record(user=record.user, user_vector=np.array([1, 2, 3]))\n",
        "        return output_record  \n",
        "    \n",
        "user_schema = Schema(\n",
        "    primary_key=\"user\", columns={\"user\": str, \"user_vector\": np.array}\n",
        ")\n",
        "user_vectors = source.map(UserVector, args=(user_schema, \"movie_vectors.csv\"))\n",
        "user_vectors.as_queryable(\"user_vectors\")"
      ],
      "id": "113be8d2",
      "execution_count": 19,
      "outputs": [
        {
          "output_type": "execute_result",
          "data": {
            "text/plain": [
              "Table(UserVector)"
            ]
          },
          "metadata": {},
          "execution_count": 19
        }
      ]
    },
    {
      "cell_type": "code",
      "metadata": {
        "id": "708e7fa2",
        "outputId": "def00a8b-32b0-4b2e-b41b-57f0070746d9",
        "colab": {
          "base_uri": "https://localhost:8080/"
        }
      },
      "source": [
        "ralf_server.run()"
      ],
      "id": "708e7fa2",
      "execution_count": 20,
      "outputs": [
        {
          "output_type": "stream",
          "name": "stderr",
          "text": [
            "2021-11-04 06:35:45,058\tINFO api.py:393 -- Connecting to existing Serve instance in namespace 'a4268eab-789d-4b73-a75e-c280d6828003'.\n",
            "2021-11-04 06:35:45,128\tINFO api.py:240 -- Updating deployment 'QueryableServer'. component=serve deployment=QueryableServer\n"
          ]
        },
        {
          "output_type": "stream",
          "name": "stdout",
          "text": [
            "{'Table(AverageRating)': {'actor_pool_size': 1,\n",
            "                          'actor_state': [{'cache_size': 0,\n",
            "                                           'lazy': False,\n",
            "                                           'process': {'cpu_percent': 19.3,\n",
            "                                                       'memory_mb': 105.7421875},\n",
            "                                           'queue_size': {'1': 0,\n",
            "                                                          '10': 0,\n",
            "                                                          '2': 0,\n",
            "                                                          '3': 0,\n",
            "                                                          '4': 0,\n",
            "                                                          '5': 0,\n",
            "                                                          '6': 0,\n",
            "                                                          '7': 0,\n",
            "                                                          '8': 0,\n",
            "                                                          '9': 0},\n",
            "                                           'table': {'num_deletes': 0,\n",
            "                                                     'num_records': 10,\n",
            "                                                     'num_updates': 914},\n",
            "                                           'thread_pool_size': 4}],\n",
            "                          'children': [],\n",
            "                          'is_source': False,\n",
            "                          'operator_args': ['<ralf.state.Schema object at '\n",
            "                                            '0x7f7d7aca9d50>'],\n",
            "                          'operator_kwargs': {},\n",
            "                          'operator_name': 'Table(AverageRating)',\n",
            "                          'parents': ['Table(RatingsSource)']},\n",
            " 'Table(RatingsSource)': {'actor_pool_size': 1,\n",
            "                          'actor_state': [{'cache_size': 0,\n",
            "                                           'lazy': False,\n",
            "                                           'process': {'cpu_percent': 11.7,\n",
            "                                                       'memory_mb': 130.91015625},\n",
            "                                           'queue_size': {},\n",
            "                                           'table': {'num_deletes': 0,\n",
            "                                                     'num_records': 10,\n",
            "                                                     'num_updates': 1737},\n",
            "                                           'thread_pool_size': 4}],\n",
            "                          'children': ['Table(AverageRating)',\n",
            "                                       'Table(UserVector)'],\n",
            "                          'is_source': True,\n",
            "                          'operator_args': ['<ralf.state.Schema object at '\n",
            "                                            '0x7f7d7ac90350>',\n",
            "                                            'ratings_topic'],\n",
            "                          'operator_kwargs': {},\n",
            "                          'operator_name': 'Table(RatingsSource)',\n",
            "                          'parents': []},\n",
            " 'Table(UserVector)': {'actor_pool_size': 1,\n",
            "                       'actor_state': [{'cache_size': 0,\n",
            "                                        'lazy': False,\n",
            "                                        'process': {'cpu_percent': 15.1,\n",
            "                                                    'memory_mb': 129.828125},\n",
            "                                        'queue_size': {'1': 0,\n",
            "                                                       '10': 0,\n",
            "                                                       '2': 0,\n",
            "                                                       '3': 0,\n",
            "                                                       '4': 0,\n",
            "                                                       '5': 0,\n",
            "                                                       '6': 0,\n",
            "                                                       '7': 0,\n",
            "                                                       '8': 0,\n",
            "                                                       '9': 0},\n",
            "                                        'table': {'num_deletes': 0,\n",
            "                                                  'num_records': 10,\n",
            "                                                  'num_updates': 86},\n",
            "                                        'thread_pool_size': 4}],\n",
            "                       'children': [],\n",
            "                       'is_source': False,\n",
            "                       'operator_args': ['<ralf.state.Schema object at '\n",
            "                                         '0x7f7d7ab9e790>',\n",
            "                                         'movie_vectors.csv'],\n",
            "                       'operator_kwargs': {},\n",
            "                       'operator_name': 'Table(UserVector)',\n",
            "                       'parents': ['Table(RatingsSource)']}}\n"
          ]
        },
        {
          "output_type": "stream",
          "name": "stderr",
          "text": [
            "\u001b[2m\u001b[36m(pid=1460)\u001b[0m 2021-11-04 06:35:45,204\tINFO backend_state.py:872 -- Stopping 1 replicas of deployment 'QueryableServer' with outdated versions. component=serve deployment=QueryableServer\n",
            "\u001b[2m\u001b[36m(pid=1517)\u001b[0m 2021-11-04 06:35:47,207\tERROR replica.py:372 -- Exception during graceful shutdown of replica: This event loop is already running component=serve deployment=QueryableServer replica=QueryableServer#ZxCHRe\n",
            "\u001b[2m\u001b[36m(pid=1517)\u001b[0m Traceback (most recent call last):\n",
            "\u001b[2m\u001b[36m(pid=1517)\u001b[0m   File \"/usr/local/lib/python3.7/dist-packages/ray/serve/replica.py\", line 369, in prepare_for_shutdown\n",
            "\u001b[2m\u001b[36m(pid=1517)\u001b[0m     self.callable.__del__()\n",
            "\u001b[2m\u001b[36m(pid=1517)\u001b[0m   File \"/usr/local/lib/python3.7/dist-packages/ray/serve/api.py\", line 591, in __del__\n",
            "\u001b[2m\u001b[36m(pid=1517)\u001b[0m     self._serve_asgi_lifespan.shutdown())\n",
            "\u001b[2m\u001b[36m(pid=1517)\u001b[0m   File \"/usr/lib/python3.7/asyncio/base_events.py\", line 563, in run_until_complete\n",
            "\u001b[2m\u001b[36m(pid=1517)\u001b[0m     self._check_runnung()\n",
            "\u001b[2m\u001b[36m(pid=1517)\u001b[0m   File \"/usr/lib/python3.7/asyncio/base_events.py\", line 523, in _check_runnung\n",
            "\u001b[2m\u001b[36m(pid=1517)\u001b[0m     raise RuntimeError('This event loop is already running')\n",
            "\u001b[2m\u001b[36m(pid=1517)\u001b[0m RuntimeError: This event loop is already running\n",
            "\u001b[2m\u001b[36m(pid=1517)\u001b[0m /usr/local/lib/python3.7/dist-packages/ray/serve/replica.py:372: RuntimeWarning: coroutine 'LifespanOn.shutdown' was never awaited\n",
            "\u001b[2m\u001b[36m(pid=1517)\u001b[0m   f\"Exception during graceful shutdown of replica: {e}\")\n",
            "\u001b[2m\u001b[36m(pid=1517)\u001b[0m RuntimeWarning: Enable tracemalloc to get the object allocation traceback\n",
            "\u001b[2m\u001b[36m(pid=1460)\u001b[0m 2021-11-04 06:35:47,420\tINFO backend_state.py:910 -- Adding 1 replicas to deployment 'QueryableServer'. component=serve deployment=QueryableServer\n",
            "2021-11-04 06:35:49,025\tINFO api.py:248 -- Deployment 'QueryableServer' is ready at `http://127.0.0.1:8000/`. component=serve deployment=QueryableServer\n"
          ]
        }
      ]
    },
    {
      "cell_type": "code",
      "metadata": {
        "id": "7371d5c7",
        "outputId": "18290362-6035-4bb7-ff80-0c56f6979041",
        "colab": {
          "base_uri": "https://localhost:8080/"
        }
      },
      "source": [
        "ralf_client.bulk_query(table_name=\"user_vectors\")"
      ],
      "id": "7371d5c7",
      "execution_count": 21,
      "outputs": [
        {
          "output_type": "stream",
          "name": "stdout",
          "text": [
            "querying http://localhost:8000/table/user_vectors...\n"
          ]
        },
        {
          "output_type": "execute_result",
          "data": {
            "text/plain": [
              "[{'user': '3', 'user_vector': [1, 2, 3]},\n",
              " {'user': '9', 'user_vector': [1, 2, 3]},\n",
              " {'user': '7', 'user_vector': [1, 2, 3]},\n",
              " {'user': '8', 'user_vector': [1, 2, 3]},\n",
              " {'user': '4', 'user_vector': [1, 2, 3]},\n",
              " {'user': '2', 'user_vector': [1, 2, 3]},\n",
              " {'user': '5', 'user_vector': [1, 2, 3]},\n",
              " {'user': '10', 'user_vector': [1, 2, 3]},\n",
              " {'user': '1', 'user_vector': [1, 2, 3]},\n",
              " {'user': '6', 'user_vector': [1, 2, 3]}]"
            ]
          },
          "metadata": {},
          "execution_count": 21
        }
      ]
    },
    {
      "cell_type": "markdown",
      "metadata": {
        "id": "224976b8"
      },
      "source": [
        "## Prioritizing Active Users \n",
        "Ralf allows for key-level prioritization policies. Say that we want to prioritize computing updates to user vectors for users who especially active. We can use activity data to implement a prioritized lottery scheduling policy. "
      ],
      "id": "224976b8"
    },
    {
      "cell_type": "code",
      "metadata": {
        "id": "6dfb7aa8",
        "outputId": "0e8d7bb9-2c6c-45e6-b712-2bdd6adfb4af",
        "colab": {
          "base_uri": "https://localhost:8080/",
          "height": 359
        }
      },
      "source": [
        "user_activity = pd.read_csv(\"user_active_time.csv\")\n",
        "user_activity"
      ],
      "id": "6dfb7aa8",
      "execution_count": 22,
      "outputs": [
        {
          "output_type": "execute_result",
          "data": {
            "text/html": [
              "<div>\n",
              "<style scoped>\n",
              "    .dataframe tbody tr th:only-of-type {\n",
              "        vertical-align: middle;\n",
              "    }\n",
              "\n",
              "    .dataframe tbody tr th {\n",
              "        vertical-align: top;\n",
              "    }\n",
              "\n",
              "    .dataframe thead th {\n",
              "        text-align: right;\n",
              "    }\n",
              "</style>\n",
              "<table border=\"1\" class=\"dataframe\">\n",
              "  <thead>\n",
              "    <tr style=\"text-align: right;\">\n",
              "      <th></th>\n",
              "      <th>Unnamed: 0</th>\n",
              "      <th>user_id</th>\n",
              "      <th>activity</th>\n",
              "    </tr>\n",
              "  </thead>\n",
              "  <tbody>\n",
              "    <tr>\n",
              "      <th>0</th>\n",
              "      <td>0</td>\n",
              "      <td>1</td>\n",
              "      <td>0</td>\n",
              "    </tr>\n",
              "    <tr>\n",
              "      <th>1</th>\n",
              "      <td>1</td>\n",
              "      <td>2</td>\n",
              "      <td>0</td>\n",
              "    </tr>\n",
              "    <tr>\n",
              "      <th>2</th>\n",
              "      <td>2</td>\n",
              "      <td>3</td>\n",
              "      <td>0</td>\n",
              "    </tr>\n",
              "    <tr>\n",
              "      <th>3</th>\n",
              "      <td>3</td>\n",
              "      <td>4</td>\n",
              "      <td>0</td>\n",
              "    </tr>\n",
              "    <tr>\n",
              "      <th>4</th>\n",
              "      <td>4</td>\n",
              "      <td>5</td>\n",
              "      <td>0</td>\n",
              "    </tr>\n",
              "    <tr>\n",
              "      <th>5</th>\n",
              "      <td>5</td>\n",
              "      <td>6</td>\n",
              "      <td>3</td>\n",
              "    </tr>\n",
              "    <tr>\n",
              "      <th>6</th>\n",
              "      <td>6</td>\n",
              "      <td>7</td>\n",
              "      <td>13</td>\n",
              "    </tr>\n",
              "    <tr>\n",
              "      <th>7</th>\n",
              "      <td>7</td>\n",
              "      <td>8</td>\n",
              "      <td>1</td>\n",
              "    </tr>\n",
              "    <tr>\n",
              "      <th>8</th>\n",
              "      <td>8</td>\n",
              "      <td>9</td>\n",
              "      <td>5</td>\n",
              "    </tr>\n",
              "    <tr>\n",
              "      <th>9</th>\n",
              "      <td>9</td>\n",
              "      <td>10</td>\n",
              "      <td>9</td>\n",
              "    </tr>\n",
              "  </tbody>\n",
              "</table>\n",
              "</div>"
            ],
            "text/plain": [
              "   Unnamed: 0  user_id  activity\n",
              "0           0        1         0\n",
              "1           1        2         0\n",
              "2           2        3         0\n",
              "3           3        4         0\n",
              "4           4        5         0\n",
              "5           5        6         3\n",
              "6           6        7        13\n",
              "7           7        8         1\n",
              "8           8        9         5\n",
              "9           9       10         9"
            ]
          },
          "metadata": {},
          "execution_count": 22
        }
      ]
    },
    {
      "cell_type": "markdown",
      "metadata": {
        "id": "2bc70322"
      },
      "source": [
        "For example, we can set the subsampling rate of the data to be inversely proportional to how active the user is. "
      ],
      "id": "2bc70322"
    },
    {
      "cell_type": "code",
      "metadata": {
        "id": "d322af7a"
      },
      "source": [
        "class SampleActiveUsers(LoadSheddingPolicy):\n",
        "    \n",
        "    def __init__(self, user_activity_csv):\n",
        "        user_activity = pd.read_csv(\"user_active_time.csv\")\n",
        "        self.weights = user_activity.set_index(\"user_id\")[\"activity\"].to_dict()\n",
        "\n",
        "    def process(record: Record): \n",
        "        return random.random() < self.weights[record.user]"
      ],
      "id": "d322af7a",
      "execution_count": 23,
      "outputs": []
    },
    {
      "cell_type": "markdown",
      "metadata": {
        "id": "705d2041"
      },
      "source": [
        "Alternatively, we can create a key prioritization policy which prioritizes keys uses lottery scheduling. "
      ],
      "id": "705d2041"
    },
    {
      "cell_type": "code",
      "metadata": {
        "id": "41549bfe",
        "outputId": "225e7f43-4205-4efa-fde6-0162883ca4c2",
        "colab": {
          "base_uri": "https://localhost:8080/"
        }
      },
      "source": [
        "from ralf import PrioritizationPolicy\n",
        "from typing import List\n",
        "\n",
        "class LotteryScheduling(PrioritizationPolicy): \n",
        "    \n",
        "    def __init__(self, user_activity_csv): \n",
        "        user_activity = pd.read_csv(user_activity_csv)\n",
        "        self.weights = user_activity.set_index(\"user_id\")[\"activity\"].to_dict()\n",
        "        \n",
        "    def choose(self, keys: List): \n",
        "        # TODO: implement prioritized lottery scheduling \n",
        "        return random.choose(keys)\n",
        "\n",
        "user_vectors.add_prioritization_policy(LotteryScheduling, \"user_active_time.csv\")"
      ],
      "id": "41549bfe",
      "execution_count": 24,
      "outputs": [
        {
          "output_type": "execute_result",
          "data": {
            "text/plain": [
              "Table(UserVector)"
            ]
          },
          "metadata": {},
          "execution_count": 24
        }
      ]
    },
    {
      "cell_type": "code",
      "metadata": {
        "id": "banner-suite"
      },
      "source": [
        ""
      ],
      "id": "banner-suite",
      "execution_count": null,
      "outputs": []
    }
  ]
}